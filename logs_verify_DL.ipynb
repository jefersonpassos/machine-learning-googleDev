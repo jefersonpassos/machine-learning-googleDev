{
 "cells": [
  {
   "cell_type": "code",
   "execution_count": 1231,
   "metadata": {},
   "outputs": [],
   "source": [
    "from sklearn import tree\n",
    "from sklearn.neighbors import KNeighborsClassifier\n",
    "from sklearn.cross_validation import train_test_split\n",
    "from sklearn import preprocessing\n",
    "import pandas as pd\n",
    "import re\n",
    "import numpy as np\n",
    "import csv\n",
    "from fractions import Fraction\n",
    "from sklearn.svm import SVC\n",
    "import matplotlib.pyplot as plt\n",
    "\n",
    "le = preprocessing.KernelCenterer()\n",
    "my_classifier = KNeighborsClassifier()\n",
    "\n",
    "clf = SVC()"
   ]
  },
  {
   "cell_type": "code",
   "execution_count": 1160,
   "metadata": {},
   "outputs": [],
   "source": [
    "log_error = \"Syntax error violated\""
   ]
  },
  {
   "cell_type": "code",
   "execution_count": 1228,
   "metadata": {},
   "outputs": [],
   "source": [
    "# ifile = open('api_log_ml.csv', 'r')\n",
    "\n",
    "with open('api_log_ml.csv', 'r') as f:\n",
    "    reader = csv.reader(f, delimiter=';')\n",
    "    your_list = list(reader)"
   ]
  },
  {
   "cell_type": "code",
   "execution_count": 1127,
   "metadata": {},
   "outputs": [
    {
     "data": {
      "text/plain": [
       "0"
      ]
     },
     "execution_count": 1127,
     "metadata": {},
     "output_type": "execute_result"
    }
   ],
   "source": []
  },
  {
   "cell_type": "code",
   "execution_count": 1229,
   "metadata": {},
   "outputs": [
    {
     "name": "stdout",
     "output_type": "stream",
     "text": [
      "[[35.230677003609657], [56.176056711191613], [12.291444158872972], [11.546787196409312], [18.772400866997263], [37.196699223683808], [53.381058230361838], [55.582046279433186], [36.564609142429362], [55.901824859065677], [46.241942516383084], [66.212595859654172], [19.047811438582055], [86.399749442356949], [65.390491306698806], [65.318138686385709]]\n",
      "[1, 0, 0, 0, 1, 1, 0, 0, 1, 1, 1, 1, 0, 0, 0, 1]\n"
     ]
    }
   ],
   "source": [
    "x = []\n",
    "y = []\n",
    "\n",
    "faeture = []\n",
    "\n",
    "for log in your_list:\n",
    "    label = log[1]\n",
    "    str_f = str(log[0])\n",
    "    faeture.append(str_f)\n",
    "    features = convert_log(log[0])\n",
    "    \n",
    "#     print(features)\n",
    "    \n",
    "    for feature in features:\n",
    "        x.append([feature])\n",
    "        y.append(int(label))\n",
    "    \n",
    "print(x)\n",
    "print(y)"
   ]
  },
  {
   "cell_type": "code",
   "execution_count": 1181,
   "metadata": {
    "collapsed": true
   },
   "outputs": [],
   "source": [
    "def to_ascii(x):\n",
    "   return list(map(ord, x))"
   ]
  },
  {
   "cell_type": "code",
   "execution_count": 1222,
   "metadata": {
    "collapsed": true
   },
   "outputs": [],
   "source": [
    "def logs_classifier(label, features):\n",
    "    \n",
    "    x = []\n",
    "    y = []\n",
    "    \n",
    "    for feature in features:\n",
    "        x.append([feature])\n",
    "    \n",
    "    for f in features:\n",
    "        y.append(label)\n",
    "    \n",
    "#     log_df = pd.DataFrame({\n",
    "#         \"x\": x,\n",
    "#         \"y\": y\n",
    "#     })\n",
    "\n",
    "    \n",
    "    return x, y\n",
    "    "
   ]
  },
  {
   "cell_type": "code",
   "execution_count": 1221,
   "metadata": {
    "collapsed": true
   },
   "outputs": [],
   "source": [
    "def convert_log(_log):\n",
    "   \n",
    "    log = re.sub(r'[?|$|\\-|!|*|:|/|_]',r' ',_log)\n",
    "    log = log.split(' ')\n",
    "#     print(log)\n",
    "    log_vector = []\n",
    "    \n",
    "    for l in log:\n",
    "        if l == None:\n",
    "            continue\n",
    "        log_vector.append(convert_caracter(l))\n",
    "    \n",
    "#     le.fit(log)\n",
    "    \n",
    "#     log_vector = le.transform(log)\n",
    "    \n",
    "    return log_vector"
   ]
  },
  {
   "cell_type": "code",
   "execution_count": 1165,
   "metadata": {},
   "outputs": [],
   "source": [
    "def convert_caracter(_value):\n",
    "    c = list(map(ord, _value))\n",
    "    value = 1\n",
    "    a = 0\n",
    "    for v in c:\n",
    "        a += (v * value)\n",
    "        value += np.log(a)\n",
    "\n",
    "    return value"
   ]
  },
  {
   "cell_type": "code",
   "execution_count": 1194,
   "metadata": {
    "scrolled": true
   },
   "outputs": [
    {
     "name": "stdout",
     "output_type": "stream",
     "text": [
      "[[35.230677003609657], [56.176056711191613], [12.291444158872972], [11.546787196409312], [18.772400866997263], [37.196699223683808], [53.381058230361838], [55.582046279433186], [36.564609142429362], [55.901824859065677], [46.241942516383084], [66.212595859654172], [19.047811438582055], [86.399749442356949], [65.390491306698806], [65.318138686385709], [46.241942516383084], [37.196699223683808], [66.212595859654172]]\n"
     ]
    }
   ],
   "source": [
    "log_err = convert_log(log_error)\n",
    "features = log_err\n",
    "#print(features)\n",
    "label = 1\n",
    "\n",
    "# _df_log = logs_classifier(label, features)\n",
    "\n",
    "x_log, y_log = logs_classifier(label, features)\n",
    "\n",
    "for x_ in x_log:\n",
    "    x.append(x_)\n",
    "\n",
    "for y_l in y_log:\n",
    "    y.append(y_l)\n",
    "\n",
    "\n",
    "print(x)\n",
    "\n",
    "# print(_df_log.y)"
   ]
  },
  {
   "cell_type": "code",
   "execution_count": 1237,
   "metadata": {},
   "outputs": [
    {
     "data": {
      "text/plain": [
       "SVC(C=1.0, cache_size=200, class_weight=None, coef0=0.0,\n",
       "  decision_function_shape=None, degree=3, gamma='auto', kernel='rbf',\n",
       "  max_iter=-1, probability=False, random_state=None, shrinking=True,\n",
       "  tol=0.001, verbose=False)"
      ]
     },
     "execution_count": 1237,
     "metadata": {},
     "output_type": "execute_result"
    }
   ],
   "source": [
    "x_train, x_test, y_train, y_test = train_test_split(x, y, test_size = 0)\n",
    "\n",
    "my_classifier.fit(x, y)\n",
    "\n",
    "clf.fit(x, y)"
   ]
  },
  {
   "cell_type": "code",
   "execution_count": 1238,
   "metadata": {
    "scrolled": true
   },
   "outputs": [
    {
     "name": "stdout",
     "output_type": "stream",
     "text": [
      "[[56.176056711191613], [37.196699223683808], [18.772400866997263], [24.725196077815639], [37.24540826658351]]\n",
      "[0 1 0 1 1]\n",
      "[0 1 1 0 1]\n"
     ]
    }
   ],
   "source": [
    "log_test = convert_log(\"success error ORA 2017 teste\")\n",
    "_log_vector = []\n",
    "\n",
    "for log in log_test:\n",
    "    _log_vector.append([log])\n",
    "    \n",
    "print(_log_vector)\n",
    "predictionsKNN = my_classifier.predict(_log_vector)\n",
    "print(predictionsKNN)\n",
    "\n",
    "predictionsSVC = clf.predict(_log_vector)\n",
    "print(predictionsSVC)"
   ]
  },
  {
   "cell_type": "code",
   "execution_count": null,
   "metadata": {
    "collapsed": true
   },
   "outputs": [],
   "source": []
  }
 ],
 "metadata": {
  "kernelspec": {
   "display_name": "Python 3",
   "language": "python",
   "name": "python3"
  },
  "language_info": {
   "codemirror_mode": {
    "name": "ipython",
    "version": 3
   },
   "file_extension": ".py",
   "mimetype": "text/x-python",
   "name": "python",
   "nbconvert_exporter": "python",
   "pygments_lexer": "ipython3",
   "version": "3.4.5"
  }
 },
 "nbformat": 4,
 "nbformat_minor": 2
}
