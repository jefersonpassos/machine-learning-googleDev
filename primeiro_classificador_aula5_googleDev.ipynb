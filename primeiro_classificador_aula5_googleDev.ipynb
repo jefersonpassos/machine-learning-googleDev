{
 "cells": [
  {
   "cell_type": "code",
   "execution_count": 2,
   "metadata": {
    "collapsed": true
   },
   "outputs": [],
   "source": [
    "from sklearn import datasets"
   ]
  },
  {
   "cell_type": "code",
   "execution_count": 3,
   "metadata": {
    "collapsed": true
   },
   "outputs": [],
   "source": [
    "from scipy.spatial import distance\n",
    "\n",
    "def euc(a, b):\n",
    "    return distance.euclidean(a,b)"
   ]
  },
  {
   "cell_type": "code",
   "execution_count": 4,
   "metadata": {
    "collapsed": true
   },
   "outputs": [],
   "source": [
    "import random\n",
    "\n",
    "class ScrappyKNN():\n",
    "    def fit(self, x_train, y_train):\n",
    "        self.x_train = x_train\n",
    "        self.y_train = y_train\n",
    "    \n",
    "    def predict(self, x_test):\n",
    "        predictions = []\n",
    "        for row in x_test:\n",
    "            label = self.closest(row)\n",
    "            predictions.append(label)\n",
    "        \n",
    "        return predictions\n",
    "    \n",
    "    def closest(self, row):\n",
    "        best_dist = euc(row, self.x_train[0])\n",
    "        best_index = 0\n",
    "        for i in range(1, len(self.x_train)):\n",
    "            dist = euc(row, self.x_train[i])\n",
    "            if dist < best_dist:\n",
    "                best_dist = dist\n",
    "                best_index = i\n",
    "        return self.y_train[best_index]\n",
    "        "
   ]
  },
  {
   "cell_type": "code",
   "execution_count": 5,
   "metadata": {
    "collapsed": true
   },
   "outputs": [],
   "source": [
    "iris = datasets.load_iris()"
   ]
  },
  {
   "cell_type": "code",
   "execution_count": 11,
   "metadata": {},
   "outputs": [
    {
     "name": "stdout",
     "output_type": "stream",
     "text": [
      "[0 0 0 0 0 0 0 0 0 0 0 0 0 0 0 0 0 0 0 0 0 0 0 0 0 0 0 0 0 0 0 0 0 0 0 0 0\n",
      " 0 0 0 0 0 0 0 0 0 0 0 0 0 1 1 1 1 1 1 1 1 1 1 1 1 1 1 1 1 1 1 1 1 1 1 1 1\n",
      " 1 1 1 1 1 1 1 1 1 1 1 1 1 1 1 1 1 1 1 1 1 1 1 1 1 1 2 2 2 2 2 2 2 2 2 2 2\n",
      " 2 2 2 2 2 2 2 2 2 2 2 2 2 2 2 2 2 2 2 2 2 2 2 2 2 2 2 2 2 2 2 2 2 2 2 2 2\n",
      " 2 2]\n"
     ]
    }
   ],
   "source": [
    "x = iris.data\n",
    "y = iris.target\n",
    "# print(x)\n",
    "print(y)\n",
    "# f(x) = y\n",
    "# features = f(x)\n",
    "# labels = y"
   ]
  },
  {
   "cell_type": "code",
   "execution_count": 13,
   "metadata": {},
   "outputs": [
    {
     "name": "stderr",
     "output_type": "stream",
     "text": [
      "/usr/lib64/python3.4/site-packages/sklearn/cross_validation.py:44: DeprecationWarning: This module was deprecated in version 0.18 in favor of the model_selection module into which all the refactored classes and functions are moved. Also note that the interface of the new CV iterators are different from that of this module. This module will be removed in 0.20.\n",
      "  \"This module will be removed in 0.20.\", DeprecationWarning)\n"
     ]
    }
   ],
   "source": [
    "from sklearn.cross_validation import train_test_split"
   ]
  },
  {
   "cell_type": "code",
   "execution_count": 14,
   "metadata": {
    "collapsed": true
   },
   "outputs": [],
   "source": [
    "x_train, x_test, y_train, y_test = train_test_split(x, y, test_size = .5)"
   ]
  },
  {
   "cell_type": "code",
   "execution_count": null,
   "metadata": {
    "collapsed": true
   },
   "outputs": [],
   "source": []
  },
  {
   "cell_type": "code",
   "execution_count": 23,
   "metadata": {},
   "outputs": [
    {
     "name": "stdout",
     "output_type": "stream",
     "text": [
      "[[ 5.6  2.7  4.2  1.3]\n",
      " [ 6.1  2.6  5.6  1.4]\n",
      " [ 5.   3.3  1.4  0.2]\n",
      " [ 5.   3.2  1.2  0.2]\n",
      " [ 4.4  3.   1.3  0.2]\n",
      " [ 5.   3.   1.6  0.2]\n",
      " [ 6.4  2.8  5.6  2.2]\n",
      " [ 6.9  3.1  5.1  2.3]\n",
      " [ 6.2  2.9  4.3  1.3]\n",
      " [ 7.7  3.   6.1  2.3]\n",
      " [ 6.5  2.8  4.6  1.5]\n",
      " [ 6.3  2.5  5.   1.9]\n",
      " [ 6.3  3.3  4.7  1.6]\n",
      " [ 4.9  3.   1.4  0.2]\n",
      " [ 7.6  3.   6.6  2.1]\n",
      " [ 5.6  2.8  4.9  2. ]\n",
      " [ 6.4  3.2  5.3  2.3]\n",
      " [ 6.4  2.8  5.6  2.1]\n",
      " [ 4.9  3.1  1.5  0.1]\n",
      " [ 6.8  2.8  4.8  1.4]\n",
      " [ 5.1  3.3  1.7  0.5]\n",
      " [ 6.6  2.9  4.6  1.3]\n",
      " [ 5.7  2.5  5.   2. ]\n",
      " [ 6.7  2.5  5.8  1.8]\n",
      " [ 4.3  3.   1.1  0.1]\n",
      " [ 5.2  2.7  3.9  1.4]\n",
      " [ 5.1  3.7  1.5  0.4]\n",
      " [ 6.1  2.8  4.   1.3]\n",
      " [ 5.4  3.7  1.5  0.2]\n",
      " [ 5.4  3.   4.5  1.5]\n",
      " [ 5.8  4.   1.2  0.2]\n",
      " [ 4.8  3.4  1.6  0.2]\n",
      " [ 6.   2.2  5.   1.5]\n",
      " [ 6.1  2.8  4.7  1.2]\n",
      " [ 7.4  2.8  6.1  1.9]\n",
      " [ 6.3  3.4  5.6  2.4]\n",
      " [ 4.9  3.1  1.5  0.1]\n",
      " [ 6.9  3.1  4.9  1.5]\n",
      " [ 6.1  2.9  4.7  1.4]\n",
      " [ 4.5  2.3  1.3  0.3]\n",
      " [ 7.7  2.8  6.7  2. ]\n",
      " [ 6.5  3.   5.2  2. ]\n",
      " [ 7.7  2.6  6.9  2.3]\n",
      " [ 6.   2.9  4.5  1.5]\n",
      " [ 4.8  3.1  1.6  0.2]\n",
      " [ 7.2  3.2  6.   1.8]\n",
      " [ 5.8  2.7  5.1  1.9]\n",
      " [ 4.7  3.2  1.6  0.2]\n",
      " [ 5.1  2.5  3.   1.1]\n",
      " [ 7.3  2.9  6.3  1.8]\n",
      " [ 5.4  3.9  1.3  0.4]\n",
      " [ 6.   2.7  5.1  1.6]\n",
      " [ 6.7  3.   5.   1.7]\n",
      " [ 5.4  3.4  1.5  0.4]\n",
      " [ 5.9  3.   5.1  1.8]\n",
      " [ 6.7  3.   5.2  2.3]\n",
      " [ 6.9  3.2  5.7  2.3]\n",
      " [ 6.1  3.   4.9  1.8]\n",
      " [ 6.   2.2  4.   1. ]\n",
      " [ 4.8  3.4  1.9  0.2]\n",
      " [ 6.1  3.   4.6  1.4]\n",
      " [ 6.2  2.2  4.5  1.5]\n",
      " [ 5.9  3.2  4.8  1.8]\n",
      " [ 5.   3.5  1.3  0.3]\n",
      " [ 6.7  3.3  5.7  2.1]\n",
      " [ 5.1  3.8  1.5  0.3]\n",
      " [ 4.6  3.4  1.4  0.3]\n",
      " [ 5.4  3.9  1.7  0.4]\n",
      " [ 5.1  3.5  1.4  0.3]\n",
      " [ 6.8  3.   5.5  2.1]\n",
      " [ 7.7  3.8  6.7  2.2]\n",
      " [ 5.   3.6  1.4  0.2]\n",
      " [ 6.4  2.9  4.3  1.3]\n",
      " [ 7.2  3.   5.8  1.6]\n",
      " [ 4.6  3.2  1.4  0.2]]\n",
      "[0, 1, 0, 1, 1, 1, 0, 0, 2, 0, 2, 0, 1, 2, 1, 1, 0, 2, 2, 1, 0, 1, 2, 0, 0, 0, 1, 0, 0, 0, 1, 2, 1, 0, 2, 2, 2, 2, 0, 0, 0, 0, 1, 1, 2, 1, 1, 1, 1, 2, 1, 1, 2, 2, 1, 0, 2, 0, 2, 0, 1, 0, 0, 1, 2, 1, 1, 1, 2, 1, 1, 2, 1, 1, 2]\n"
     ]
    }
   ],
   "source": [
    "# from sklearn import tree\n",
    "# my_classifier = tree.DecisionTreeClassifier()\n",
    "# from sklearn.neighbors import KNeighborsClassifier\n",
    "\n",
    "my_classifier = ScrappyKNN()\n",
    "my_classifier.fit(x_train, y_train)\n",
    "print(x_train)\n",
    "predictions = my_classifier.predict(x_test)\n",
    "print(predictions)"
   ]
  },
  {
   "cell_type": "code",
   "execution_count": 17,
   "metadata": {
    "collapsed": true
   },
   "outputs": [],
   "source": [
    "from sklearn.metrics import accuracy_score"
   ]
  },
  {
   "cell_type": "code",
   "execution_count": 18,
   "metadata": {},
   "outputs": [
    {
     "data": {
      "text/plain": [
       "0.95999999999999996"
      ]
     },
     "execution_count": 18,
     "metadata": {},
     "output_type": "execute_result"
    }
   ],
   "source": [
    "accuracy_score(y_test, predictions)"
   ]
  }
 ],
 "metadata": {
  "kernelspec": {
   "display_name": "Python 3",
   "language": "python",
   "name": "python3"
  },
  "language_info": {
   "codemirror_mode": {
    "name": "ipython",
    "version": 3
   },
   "file_extension": ".py",
   "mimetype": "text/x-python",
   "name": "python",
   "nbconvert_exporter": "python",
   "pygments_lexer": "ipython3",
   "version": "3.4.5"
  }
 },
 "nbformat": 4,
 "nbformat_minor": 2
}
