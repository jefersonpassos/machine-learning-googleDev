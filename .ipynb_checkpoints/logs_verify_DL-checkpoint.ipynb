{
 "cells": [
  {
   "cell_type": "code",
   "execution_count": 691,
   "metadata": {},
   "outputs": [],
   "source": [
    "from sklearn import tree\n",
    "from sklearn.neighbors import KNeighborsClassifier\n",
    "from sklearn.cross_validation import train_test_split\n",
    "from sklearn import preprocessing\n",
    "import pandas as pd\n",
    "import re\n",
    "import numpy as np\n",
    "import csv\n",
    "from fractions import Fraction\n",
    "\n",
    "le = preprocessing.LabelEncoder()"
   ]
  },
  {
   "cell_type": "code",
   "execution_count": 679,
   "metadata": {
    "collapsed": true
   },
   "outputs": [],
   "source": [
    "log_error = \"GMSC_Ericsson/scripts_counters/ldr_logs/oracle_SIPROUT2.log:SQL*Loader-350: Syntax error at line 14.\\nGMSC_Ericsson/scripts/ldr_logs/incomingRoute.log:Record 1: Rejected - Error on table DIM_GMS_CDR_INCOMINGROUTE.\\nGMSC_Ericsson/scripts/ldr_logs/incomingRoute.log:ORA-00001: unique constraint (DMENGENHARIA_ADMIN.SYS_C0021604) violated\""
   ]
  },
  {
   "cell_type": "code",
   "execution_count": 577,
   "metadata": {},
   "outputs": [],
   "source": [
    "# ifile = open('api_log_ml.csv', 'r')\n",
    "\n",
    "with open('api_log_ml.csv', 'r') as f:\n",
    "    reader = csv.reader(f, delimiter=';')\n",
    "    your_list = list(reader)"
   ]
  },
  {
   "cell_type": "code",
   "execution_count": 657,
   "metadata": {},
   "outputs": [
    {
     "name": "stdout",
     "output_type": "stream",
     "text": [
      "[[22.666719826681888], [41.587319176376276], [11.618248979943537], [8.984066927653044], [13.590195901506021], [32.247270837662214], [32.06013131290713], [41.26162277172707]]\n",
      "['1', '0', '0', '0', '1', '1', '0', '0']\n"
     ]
    }
   ],
   "source": [
    "x = []\n",
    "y = []\n",
    "\n",
    "for log in your_list:\n",
    "    label = log[1]\n",
    "    features = convert_log(log[0])\n",
    "    \n",
    "#     print(features)\n",
    "    \n",
    "    for feature in features:\n",
    "        x.append([feature])\n",
    "        y.append(label)\n",
    "        \n",
    "print(x)\n",
    "print(y)\n",
    "    \n"
   ]
  },
  {
   "cell_type": "code",
   "execution_count": 319,
   "metadata": {
    "collapsed": true
   },
   "outputs": [],
   "source": [
    "def to_ascii(x):\n",
    "   return list(map(ord, x))"
   ]
  },
  {
   "cell_type": "code",
   "execution_count": 665,
   "metadata": {
    "collapsed": true
   },
   "outputs": [],
   "source": [
    "def logs_classifier(label, features):\n",
    "    \n",
    "    x = []\n",
    "    y = []\n",
    "    \n",
    "    for feature in features:\n",
    "        x.append([feature])\n",
    "    \n",
    "    for f in features:\n",
    "        y.append(label)\n",
    "    \n",
    "#     log_df = pd.DataFrame({\n",
    "#         \"x\": x,\n",
    "#         \"y\": y\n",
    "#     })\n",
    "\n",
    "    \n",
    "    return x, y\n",
    "    "
   ]
  },
  {
   "cell_type": "code",
   "execution_count": 685,
   "metadata": {
    "collapsed": true
   },
   "outputs": [],
   "source": [
    "def convert_log(_log):\n",
    "   \n",
    "    log = re.sub(r'[?|$|\\-|!|*|:|/|_]',r' ',_log)\n",
    "    log = log.split(' ')\n",
    "#     print(log)\n",
    "    log_vector = []\n",
    "    \n",
    "    for l in log:\n",
    "        print(l)\n",
    "        if l == None:\n",
    "            continue\n",
    "        log_vector.append(convert_caracter(l))\n",
    "    \n",
    "#     le.fit(log)\n",
    "    \n",
    "#     log_vector = le.transform(log)\n",
    "    \n",
    "    return log_vector"
   ]
  },
  {
   "cell_type": "code",
   "execution_count": 692,
   "metadata": {},
   "outputs": [],
   "source": [
    "def convert_caracter(_value):\n",
    "    c = list(map(ord, _value))\n",
    "    value = 0\n",
    "    for v in c:\n",
    "        value += v\n",
    "\n",
    "    return value"
   ]
  },
  {
   "cell_type": "code",
   "execution_count": 693,
   "metadata": {
    "scrolled": true
   },
   "outputs": [
    {
     "name": "stdout",
     "output_type": "stream",
     "text": [
      "GMSC\n",
      "71778367\n"
     ]
    },
    {
     "ename": "AttributeError",
     "evalue": "'Fraction' object has no attribute 'log'",
     "output_type": "error",
     "traceback": [
      "\u001b[0;31m---------------------------------------------------------------------------\u001b[0m",
      "\u001b[0;31mAttributeError\u001b[0m                            Traceback (most recent call last)",
      "\u001b[0;32m<ipython-input-693-5a3316a73f5e>\u001b[0m in \u001b[0;36m<module>\u001b[0;34m()\u001b[0m\n\u001b[0;32m----> 1\u001b[0;31m \u001b[0mlog_err\u001b[0m \u001b[0;34m=\u001b[0m \u001b[0mconvert_log\u001b[0m\u001b[0;34m(\u001b[0m\u001b[0mlog_error\u001b[0m\u001b[0;34m)\u001b[0m\u001b[0;34m\u001b[0m\u001b[0m\n\u001b[0m\u001b[1;32m      2\u001b[0m \u001b[0mfeatures\u001b[0m \u001b[0;34m=\u001b[0m \u001b[0mlog_err\u001b[0m\u001b[0;34m\u001b[0m\u001b[0m\n\u001b[1;32m      3\u001b[0m \u001b[0mprint\u001b[0m\u001b[0;34m(\u001b[0m\u001b[0mfeatures\u001b[0m\u001b[0;34m)\u001b[0m\u001b[0;34m\u001b[0m\u001b[0m\n\u001b[1;32m      4\u001b[0m \u001b[0mlabel\u001b[0m \u001b[0;34m=\u001b[0m \u001b[0;36m1\u001b[0m\u001b[0;34m\u001b[0m\u001b[0m\n\u001b[1;32m      5\u001b[0m \u001b[0;34m\u001b[0m\u001b[0m\n",
      "\u001b[0;32m<ipython-input-685-63329e8e61e4>\u001b[0m in \u001b[0;36mconvert_log\u001b[0;34m(_log)\u001b[0m\n\u001b[1;32m     10\u001b[0m         \u001b[0;32mif\u001b[0m \u001b[0ml\u001b[0m \u001b[0;34m==\u001b[0m \u001b[0;32mNone\u001b[0m\u001b[0;34m:\u001b[0m\u001b[0;34m\u001b[0m\u001b[0m\n\u001b[1;32m     11\u001b[0m             \u001b[0;32mcontinue\u001b[0m\u001b[0;34m\u001b[0m\u001b[0m\n\u001b[0;32m---> 12\u001b[0;31m         \u001b[0mlog_vector\u001b[0m\u001b[0;34m.\u001b[0m\u001b[0mappend\u001b[0m\u001b[0;34m(\u001b[0m\u001b[0mconvert_caracter\u001b[0m\u001b[0;34m(\u001b[0m\u001b[0ml\u001b[0m\u001b[0;34m)\u001b[0m\u001b[0;34m)\u001b[0m\u001b[0;34m\u001b[0m\u001b[0m\n\u001b[0m\u001b[1;32m     13\u001b[0m \u001b[0;34m\u001b[0m\u001b[0m\n\u001b[1;32m     14\u001b[0m \u001b[0;31m#     le.fit(log)\u001b[0m\u001b[0;34m\u001b[0m\u001b[0;34m\u001b[0m\u001b[0m\n",
      "\u001b[0;32m<ipython-input-692-135b1e384ed6>\u001b[0m in \u001b[0;36mconvert_caracter\u001b[0;34m(_value)\u001b[0m\n\u001b[1;32m      7\u001b[0m     \u001b[0mvalue\u001b[0m \u001b[0;34m=\u001b[0m \u001b[0mFraction\u001b[0m\u001b[0;34m(\u001b[0m\u001b[0mvalue\u001b[0m\u001b[0;34m)\u001b[0m\u001b[0;34m\u001b[0m\u001b[0m\n\u001b[1;32m      8\u001b[0m     \u001b[0mprint\u001b[0m\u001b[0;34m(\u001b[0m\u001b[0mvalue\u001b[0m\u001b[0;34m)\u001b[0m\u001b[0;34m\u001b[0m\u001b[0m\n\u001b[0;32m----> 9\u001b[0;31m     \u001b[0mvalue\u001b[0m \u001b[0;34m=\u001b[0m \u001b[0mnp\u001b[0m\u001b[0;34m.\u001b[0m\u001b[0mlog\u001b[0m\u001b[0;34m(\u001b[0m\u001b[0mvalue\u001b[0m\u001b[0;34m)\u001b[0m\u001b[0;34m\u001b[0m\u001b[0m\n\u001b[0m\u001b[1;32m     10\u001b[0m \u001b[0;34m\u001b[0m\u001b[0m\n\u001b[1;32m     11\u001b[0m     \u001b[0;32mreturn\u001b[0m \u001b[0mfloat\u001b[0m\u001b[0;34m(\u001b[0m\u001b[0mvalue\u001b[0m\u001b[0;34m)\u001b[0m\u001b[0;34m\u001b[0m\u001b[0m\n",
      "\u001b[0;31mAttributeError\u001b[0m: 'Fraction' object has no attribute 'log'"
     ]
    }
   ],
   "source": [
    "log_err = convert_log(log_error)\n",
    "features = log_err\n",
    "print(features)\n",
    "label = 1\n",
    "\n",
    "# _df_log = logs_classifier(label, features)\n",
    "\n",
    "x, y = logs_classifier(label, features)\n",
    "\n",
    "print(y)\n",
    "\n",
    "\n",
    "# print(_df_log.y)"
   ]
  },
  {
   "cell_type": "code",
   "execution_count": 658,
   "metadata": {},
   "outputs": [
    {
     "data": {
      "text/plain": [
       "KNeighborsClassifier(algorithm='auto', leaf_size=30, metric='minkowski',\n",
       "           metric_params=None, n_jobs=1, n_neighbors=5, p=2,\n",
       "           weights='uniform')"
      ]
     },
     "execution_count": 658,
     "metadata": {},
     "output_type": "execute_result"
    }
   ],
   "source": [
    "x_train, x_test, y_train, y_test = train_test_split(x, y, test_size = .25)\n",
    "\n",
    "my_classifier = KNeighborsClassifier()\n",
    "\n",
    "my_classifier.fit(x_train, y_train)"
   ]
  },
  {
   "cell_type": "code",
   "execution_count": 662,
   "metadata": {
    "scrolled": true
   },
   "outputs": [
    {
     "name": "stdout",
     "output_type": "stream",
     "text": [
      "[[41.587319176376276], [13.590195901506021], [32.247270837662214]]\n",
      "['0' '0' '0']\n"
     ]
    }
   ],
   "source": [
    "log_test = convert_log(\"success ORA error\")\n",
    "_log_vector = []\n",
    "\n",
    "\n",
    "for log in log_test:\n",
    "    _log_vector.append([log])\n",
    "    \n",
    "print(_log_vector)\n",
    "predictions = my_classifier.predict(_log_vector)\n",
    "\n",
    "print(predictions)"
   ]
  },
  {
   "cell_type": "code",
   "execution_count": null,
   "metadata": {
    "collapsed": true
   },
   "outputs": [],
   "source": []
  }
 ],
 "metadata": {
  "kernelspec": {
   "display_name": "Python 3",
   "language": "python",
   "name": "python3"
  },
  "language_info": {
   "codemirror_mode": {
    "name": "ipython",
    "version": 3
   },
   "file_extension": ".py",
   "mimetype": "text/x-python",
   "name": "python",
   "nbconvert_exporter": "python",
   "pygments_lexer": "ipython3",
   "version": "3.4.5"
  }
 },
 "nbformat": 4,
 "nbformat_minor": 2
}
